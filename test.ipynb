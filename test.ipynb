{
 "cells": [
  {
   "cell_type": "code",
   "execution_count": 1,
   "id": "7022542f",
   "metadata": {},
   "outputs": [
    {
     "name": "stdout",
     "output_type": "stream",
     "text": [
      "Device: cuda\n",
      "TinyColorizer(\n",
      "  (encoder): Sequential(\n",
      "    (0): Conv2d(1, 16, kernel_size=(3, 3), stride=(1, 1), padding=(1, 1))\n",
      "    (1): ReLU(inplace=True)\n",
      "    (2): BatchNorm2d(16, eps=1e-05, momentum=0.1, affine=True, track_running_stats=True)\n",
      "    (3): MaxPool2d(kernel_size=2, stride=2, padding=0, dilation=1, ceil_mode=False)\n",
      "    (4): Conv2d(16, 32, kernel_size=(3, 3), stride=(1, 1), padding=(1, 1))\n",
      "    (5): ReLU(inplace=True)\n",
      "    (6): BatchNorm2d(32, eps=1e-05, momentum=0.1, affine=True, track_running_stats=True)\n",
      "    (7): MaxPool2d(kernel_size=2, stride=2, padding=0, dilation=1, ceil_mode=False)\n",
      "    (8): Conv2d(32, 64, kernel_size=(3, 3), stride=(1, 1), padding=(1, 1))\n",
      "    (9): ReLU(inplace=True)\n",
      "    (10): BatchNorm2d(64, eps=1e-05, momentum=0.1, affine=True, track_running_stats=True)\n",
      "    (11): MaxPool2d(kernel_size=2, stride=2, padding=0, dilation=1, ceil_mode=False)\n",
      "    (12): Conv2d(64, 128, kernel_size=(3, 3), stride=(1, 1), padding=(1, 1))\n",
      "    (13): ReLU(inplace=True)\n",
      "    (14): BatchNorm2d(128, eps=1e-05, momentum=0.1, affine=True, track_running_stats=True)\n",
      "    (15): MaxPool2d(kernel_size=2, stride=2, padding=0, dilation=1, ceil_mode=False)\n",
      "  )\n",
      "  (decoder): Sequential(\n",
      "    (0): ConvTranspose2d(128, 64, kernel_size=(3, 3), stride=(2, 2), padding=(1, 1), output_padding=(1, 1))\n",
      "    (1): ReLU(inplace=True)\n",
      "    (2): BatchNorm2d(64, eps=1e-05, momentum=0.1, affine=True, track_running_stats=True)\n",
      "    (3): ConvTranspose2d(64, 32, kernel_size=(3, 3), stride=(2, 2), padding=(1, 1), output_padding=(1, 1))\n",
      "    (4): ReLU(inplace=True)\n",
      "    (5): BatchNorm2d(32, eps=1e-05, momentum=0.1, affine=True, track_running_stats=True)\n",
      "    (6): ConvTranspose2d(32, 16, kernel_size=(3, 3), stride=(2, 2), padding=(1, 1), output_padding=(1, 1))\n",
      "    (7): ReLU(inplace=True)\n",
      "    (8): BatchNorm2d(16, eps=1e-05, momentum=0.1, affine=True, track_running_stats=True)\n",
      "    (9): ConvTranspose2d(16, 16, kernel_size=(3, 3), stride=(2, 2), padding=(1, 1), output_padding=(1, 1))\n",
      "    (10): ReLU(inplace=True)\n",
      "    (11): BatchNorm2d(16, eps=1e-05, momentum=0.1, affine=True, track_running_stats=True)\n",
      "    (12): Conv2d(16, 3, kernel_size=(3, 3), stride=(1, 1), padding=(1, 1))\n",
      "    (13): Sigmoid()\n",
      "  )\n",
      ")\n"
     ]
    },
    {
     "name": "stderr",
     "output_type": "stream",
     "text": [
      "C:\\Users\\Administrator\\AppData\\Local\\Temp\\ipykernel_2072\\576141479.py:60: FutureWarning: `torch.cuda.amp.GradScaler(args...)` is deprecated. Please use `torch.amp.GradScaler('cuda', args...)` instead.\n",
      "  scaler = GradScaler()\n",
      "C:\\Users\\Administrator\\AppData\\Local\\Temp\\ipykernel_2072\\576141479.py:69: FutureWarning: `torch.cuda.amp.autocast(args...)` is deprecated. Please use `torch.amp.autocast('cuda', args...)` instead.\n",
      "  with autocast():\n"
     ]
    },
    {
     "name": "stdout",
     "output_type": "stream",
     "text": [
      "Epoch 1/5 | Loss: 0.0811 | Time: 0.9s\n",
      "Epoch 2/5 | Loss: 0.0708 | Time: 0.2s\n",
      "Epoch 3/5 | Loss: 0.0640 | Time: 0.2s\n",
      "Epoch 4/5 | Loss: 0.0589 | Time: 0.2s\n",
      "Epoch 5/5 | Loss: 0.0539 | Time: 0.2s\n",
      "Demo training complete.\n"
     ]
    }
   ],
   "source": [
    "import torch, time\n",
    "import torch.nn as nn, torch.optim as optim\n",
    "import torch.backends.cudnn as cudnn\n",
    "from torch.utils.data import Dataset, DataLoader, Subset\n",
    "from torchvision.datasets import STL10\n",
    "import torchvision.transforms as T\n",
    "from torch.cuda.amp import autocast, GradScaler\n",
    "from tqdm import tqdm\n",
    "\n",
    "# --- Ayarlar ---\n",
    "cudnn.benchmark = True\n",
    "device = torch.device('cuda' if torch.cuda.is_available() else 'cpu')\n",
    "print(\"Device:\", device)\n",
    "size = 64              # 64×64 çözünürlük\n",
    "batch_size = 16\n",
    "demo_samples = 200\n",
    "epochs = 5\n",
    "\n",
    "# --- Dataset: İlk 200 Örnek, 64×64 ---\n",
    "base_ds = STL10(root='./data', split='train', download=True)\n",
    "subset = Subset(base_ds, list(range(demo_samples)))\n",
    "tf_in = T.Compose([T.Resize((size,size)), T.Grayscale(num_output_channels=1), T.ToTensor()])\n",
    "tf_tgt= T.Compose([T.Resize((size,size)), T.ToTensor()])\n",
    "\n",
    "class DemoDS(Dataset):\n",
    "    def __init__(self, base, tf_i, tf_t):\n",
    "        self.base, self.tf_i, self.tf_t = base, tf_i, tf_t\n",
    "    def __len__(self): return len(self.base)\n",
    "    def __getitem__(self, i):\n",
    "        img,_ = self.base[i]\n",
    "        return self.tf_i(img), self.tf_t(img)\n",
    "\n",
    "train_ds = DemoDS(subset, tf_in, tf_tgt)\n",
    "loader   = DataLoader(train_ds, batch_size=batch_size, shuffle=True, num_workers=0, pin_memory=True)\n",
    "\n",
    "# --- Model: Daha da Hafif LiteColorizer ---\n",
    "class TinyColorizer(nn.Module):\n",
    "    def __init__(self):\n",
    "        super().__init__()\n",
    "        enc, ch = [], 1\n",
    "        for oc in [16,32,64,128]:\n",
    "            enc += [nn.Conv2d(ch,oc,3,padding=1), nn.ReLU(True), nn.BatchNorm2d(oc), nn.MaxPool2d(2)]\n",
    "            ch = oc\n",
    "        self.encoder = nn.Sequential(*enc)\n",
    "        dec = []\n",
    "        for oc in [64,32,16]:\n",
    "            dec += [nn.ConvTranspose2d(ch,oc,3,2,1,1), nn.ReLU(True), nn.BatchNorm2d(oc)]\n",
    "            ch = oc\n",
    "        dec += [nn.ConvTranspose2d(ch,16,3,2,1,1), nn.ReLU(True), nn.BatchNorm2d(16),\n",
    "                nn.Conv2d(16,3,3,padding=1), nn.Sigmoid()]\n",
    "        self.decoder = nn.Sequential(*dec)\n",
    "    def forward(self,x): return self.decoder(self.encoder(x))\n",
    "\n",
    "model = TinyColorizer().to(device)\n",
    "print(model)\n",
    "\n",
    "# --- Eğitim Döngüsü (5 Epoch Demo) ---\n",
    "criterion = nn.MSELoss()\n",
    "optimizer = optim.Adam(model.parameters(), lr=1e-4)\n",
    "scaler = GradScaler()\n",
    "\n",
    "for ep in range(1, epochs+1):\n",
    "    start = time.time()\n",
    "    model.train()\n",
    "    running = 0.0\n",
    "    for inp, tgt in loader:\n",
    "        inp, tgt = inp.to(device), tgt.to(device)\n",
    "        optimizer.zero_grad()\n",
    "        with autocast():\n",
    "            out = model(inp)\n",
    "            loss = criterion(out, tgt)\n",
    "        scaler.scale(loss).backward()\n",
    "        scaler.step(optimizer)\n",
    "        scaler.update()\n",
    "        running += loss.item() * inp.size(0)\n",
    "    avg_loss = running / len(loader.dataset)\n",
    "    torch.cuda.synchronize()\n",
    "    print(f\"Epoch {ep}/{epochs} | Loss: {avg_loss:.4f} | Time: {time.time()-start:.1f}s\")\n",
    "\n",
    "print(\"Demo training complete.\")\n"
   ]
  },
  {
   "cell_type": "code",
   "execution_count": 3,
   "id": "aa596f94",
   "metadata": {},
   "outputs": [
    {
     "name": "stdout",
     "output_type": "stream",
     "text": [
      "Note: you may need to restart the kernel to use updated packages.\n"
     ]
    },
    {
     "name": "stderr",
     "output_type": "stream",
     "text": [
      "\n",
      "[notice] A new release of pip is available: 25.0.1 -> 25.1\n",
      "[notice] To update, run: python.exe -m pip install --upgrade pip\n"
     ]
    },
    {
     "ename": "NameError",
     "evalue": "name 'test_loader' is not defined",
     "output_type": "error",
     "traceback": [
      "\u001b[1;31m---------------------------------------------------------------------------\u001b[0m",
      "\u001b[1;31mNameError\u001b[0m                                 Traceback (most recent call last)",
      "Cell \u001b[1;32mIn[3], line 9\u001b[0m\n\u001b[0;32m      6\u001b[0m model\u001b[38;5;241m.\u001b[39meval()\n\u001b[0;32m      7\u001b[0m mse_list, psnr_list, ssim_list \u001b[38;5;241m=\u001b[39m [], [], []\n\u001b[1;32m----> 9\u001b[0m \u001b[38;5;28;01mfor\u001b[39;00m inp, tgt \u001b[38;5;129;01min\u001b[39;00m \u001b[43mtest_loader\u001b[49m:  \u001b[38;5;66;03m# test_loader: 64×64 ve batch=16\u001b[39;00m\n\u001b[0;32m     10\u001b[0m     inp, tgt \u001b[38;5;241m=\u001b[39m inp\u001b[38;5;241m.\u001b[39mto(device), tgt\u001b[38;5;241m.\u001b[39mto(device)\n\u001b[0;32m     11\u001b[0m     \u001b[38;5;28;01mwith\u001b[39;00m torch\u001b[38;5;241m.\u001b[39mno_grad():\n",
      "\u001b[1;31mNameError\u001b[0m: name 'test_loader' is not defined"
     ]
    }
   ],
   "source": [
    "import numpy as np\n",
    "import torchvision.transforms.functional as F\n",
    "from skimage.metrics import peak_signal_noise_ratio as psnr, structural_similarity as ssim\n",
    "%pip install -q scikit-image\n",
    "\n",
    "model.eval()\n",
    "mse_list, psnr_list, ssim_list = [], [], []\n",
    "\n",
    "for inp, tgt in test_loader:  # test_loader: 64×64 ve batch=16\n",
    "    inp, tgt = inp.to(device), tgt.to(device)\n",
    "    with torch.no_grad():\n",
    "        out = model(inp)\n",
    "    out_np = out.cpu().numpy()\n",
    "    tgt_np = tgt.cpu().numpy()\n",
    "    for i in range(out_np.shape[0]):\n",
    "        mse_val = ((out_np[i] - tgt_np[i])**2).mean()\n",
    "        psnr_val = psnr(tgt_np[i].transpose(1,2,0), out_np[i].transpose(1,2,0), data_range=1)\n",
    "        ssim_val = ssim(tgt_np[i].transpose(1,2,0), out_np[i].transpose(1,2,0), multichannel=True, data_range=1)\n",
    "        mse_list.append(mse_val)\n",
    "        psnr_list.append(psnr_val)\n",
    "        ssim_list.append(ssim_val)\n",
    "\n",
    "print(\"Test MSE:\", np.mean(mse_list))\n",
    "print(\"Test PSNR:\", np.mean(psnr_list))\n",
    "print(\"Test SSIM:\", np.mean(ssim_list))\n"
   ]
  }
 ],
 "metadata": {
  "kernelspec": {
   "display_name": "Python 3",
   "language": "python",
   "name": "python3"
  },
  "language_info": {
   "codemirror_mode": {
    "name": "ipython",
    "version": 3
   },
   "file_extension": ".py",
   "mimetype": "text/x-python",
   "name": "python",
   "nbconvert_exporter": "python",
   "pygments_lexer": "ipython3",
   "version": "3.11.6"
  }
 },
 "nbformat": 4,
 "nbformat_minor": 5
}
