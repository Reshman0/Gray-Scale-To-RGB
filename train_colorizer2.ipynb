{
 "cells": [
  {
   "cell_type": "markdown",
   "id": "5bab642f",
   "metadata": {},
   "source": [
    "# Real Experiment: STL-10 Colorization at 128×128"
   ]
  },
  {
   "cell_type": "code",
   "execution_count": null,
   "id": "50e17966",
   "metadata": {},
   "outputs": [],
   "source": [
    "# 1) Imports & CUDA setup\n",
    "import os, glob, time\n",
    "import torch\n",
    "import torch.nn as nn\n",
    "import torch.optim as optim\n",
    "import torch.backends.cudnn as cudnn\n",
    "from torch.utils.data import Dataset, DataLoader\n",
    "from torchvision.datasets import STL10\n",
    "import torchvision.transforms as T\n",
    "from PIL import Image\n",
    "from tqdm import tqdm\n",
    "from torch.cuda.amp import autocast, GradScaler\n",
    "from skimage.metrics import peak_signal_noise_ratio as compute_psnr, structural_similarity as compute_ssim\n",
    "\n",
    "cudnn.benchmark = True\n",
    "device = torch.device('cuda' if torch.cuda.is_available() else 'cpu')\n",
    "print(\"Using device:\", device)\n"
   ]
  },
  {
   "cell_type": "code",
   "execution_count": null,
   "id": "19350a76",
   "metadata": {},
   "outputs": [],
   "source": [
    "# 2) Preprocess STL-10 → on‐disk 128×128 PNG (run only once)\n",
    "pre32 = './data/preprocessed_128'\n",
    "resize = T.Resize((128,128))\n",
    "\n",
    "for split in ['train','test']:\n",
    "    folder = os.path.join(pre32, split)\n",
    "    os.makedirs(folder, exist_ok=True)\n",
    "    ds = STL10(root='./data', split=split, download=True)\n",
    "    print(f\"→ {split}: {len(ds)} images\")\n",
    "    for i, (img,_) in enumerate(tqdm(ds, desc=f\"{split}→128\")):\n",
    "        out = os.path.join(folder, f\"{i:04d}.png\")\n",
    "        if not os.path.exists(out):\n",
    "            resize(img).save(out)\n"
   ]
  },
  {
   "cell_type": "code",
   "execution_count": null,
   "id": "28d7b3cd",
   "metadata": {},
   "outputs": [],
   "source": [
    "# 3) Disk-based Dataset class\n",
    "class Preproc128(Dataset):\n",
    "    def __init__(self, folder):\n",
    "        self.files = sorted(glob.glob(f\"{folder}/*.png\"))\n",
    "        self.to_tensor = T.ToTensor()\n",
    "    def __len__(self):\n",
    "        return len(self.files)\n",
    "    def __getitem__(self, idx):\n",
    "        img = Image.open(self.files[idx]).convert('RGB')\n",
    "        tgt = self.to_tensor(img)\n",
    "        gray = T.functional.rgb_to_grayscale(img,1)\n",
    "        inp  = self.to_tensor(gray)\n",
    "        return inp, tgt\n",
    "\n",
    "train_ds = Preproc128(f'{pre32}/train')\n",
    "test_ds  = Preproc128(f'{pre32}/test')\n",
    "print(\"Train:\", len(train_ds), \"Test:\", len(test_ds))\n"
   ]
  },
  {
   "cell_type": "code",
   "execution_count": null,
   "id": "5d3c7838",
   "metadata": {},
   "outputs": [],
   "source": [
    "# 4) DataLoaders\n",
    "train_loader = DataLoader(train_ds, batch_size=32, shuffle=True,\n",
    "                          num_workers=2, pin_memory=True)\n",
    "test_loader  = DataLoader(test_ds,  batch_size=32, shuffle=False,\n",
    "                          num_workers=2, pin_memory=True)\n",
    "print(\"Loaders ready →\", len(train_loader), \"batches train,\", len(test_loader), \"batches test\")\n"
   ]
  },
  {
   "cell_type": "code",
   "execution_count": null,
   "id": "e20e9d88",
   "metadata": {},
   "outputs": [],
   "source": [
    "# 5) LiteColorizer model (128×128)\n",
    "class LiteColorizer(nn.Module):\n",
    "    def __init__(self):\n",
    "        super().__init__()\n",
    "        enc, ch = [], 1\n",
    "        for oc in [32,64,128,256]:\n",
    "            enc += [nn.Conv2d(ch,oc,3,padding=1), nn.ReLU(True),\n",
    "                    nn.BatchNorm2d(oc), nn.MaxPool2d(2)]\n",
    "            ch = oc\n",
    "        self.encoder = nn.Sequential(*enc)\n",
    "        dec = []\n",
    "        for oc in [128,64,32]:\n",
    "            dec += [nn.ConvTranspose2d(ch,oc,3,2,1,1), nn.ReLU(True),\n",
    "                    nn.BatchNorm2d(oc)]\n",
    "            ch = oc\n",
    "        dec += [nn.ConvTranspose2d(ch,32,3,2,1,1), nn.ReLU(True),\n",
    "                nn.BatchNorm2d(32), nn.Conv2d(32,3,3,padding=1), nn.Sigmoid()]\n",
    "        self.decoder = nn.Sequential(*dec)\n",
    "    def forward(self,x):\n",
    "        return self.decoder(self.encoder(x))\n",
    "\n",
    "model = LiteColorizer().to(device)\n",
    "print(model)\n"
   ]
  },
  {
   "cell_type": "code",
   "execution_count": null,
   "id": "14b46b8e",
   "metadata": {},
   "outputs": [],
   "source": [
    "# Debug: test how long it takes to pull one batch\n",
    "import time\n",
    "t0 = time.time()\n",
    "batch = next(iter(train_loader))\n",
    "print(\"Loaded batch in\", time.time() - t0, \"seconds:\", batch[0].shape, batch[1].shape)\n"
   ]
  },
  {
   "cell_type": "code",
   "execution_count": null,
   "id": "704c694b",
   "metadata": {},
   "outputs": [],
   "source": [
    "# 6) Training loop (20 epochs)\n",
    "criterion = nn.MSELoss()\n",
    "optimizer = optim.Adam(model.parameters(), lr=1e-4)\n",
    "scaler    = GradScaler()\n",
    "epochs, best_val, patience, wait = 20, float('inf'), 5, 0\n",
    "\n",
    "for ep in range(1, epochs+1):\n",
    "    t0 = time.time()\n",
    "    # — train —\n",
    "    model.train()\n",
    "    train_loss = 0.0\n",
    "    for inp,tgt in tqdm(train_loader, desc=f\"Epoch {ep} Train\"):\n",
    "        inp, tgt = inp.to(device), tgt.to(device)\n",
    "        optimizer.zero_grad()\n",
    "        with autocast():\n",
    "            out = model(inp)\n",
    "            loss = criterion(out, tgt)\n",
    "        scaler.scale(loss).backward()\n",
    "        scaler.step(optimizer)\n",
    "        scaler.update()\n",
    "        train_loss += loss.item()*inp.size(0)\n",
    "    train_loss /= len(train_loader.dataset)\n",
    "    # — val —\n",
    "    model.eval()\n",
    "    val_loss, psnr_sum, ssim_sum = 0.0, 0.0, 0.0\n",
    "    with torch.no_grad():\n",
    "        for inp,tgt in tqdm(test_loader, desc=f\"Epoch {ep} Val\"):\n",
    "            inp, tgt = inp.to(device), tgt.to(device)\n",
    "            with autocast():\n",
    "                out = model(inp)\n",
    "                val_loss += criterion(out, tgt).item()*inp.size(0)\n",
    "            # gather for metrics (on CPU)\n",
    "            out_np = out.cpu().permute(0,2,3,1).numpy()\n",
    "            tgt_np = tgt.cpu().permute(0,2,3,1).numpy()\n",
    "            for o,t in zip(out_np, tgt_np):\n",
    "                psnr_sum += compute_psnr(t, o, data_range=1.0)\n",
    "                ssim_sum += compute_ssim(t, o, multichannel=True, data_range=1.0)\n",
    "    val_loss /= len(test_loader.dataset)\n",
    "    avg_psnr = psnr_sum / len(test_loader.dataset)\n",
    "    avg_ssim = ssim_sum / len(test_loader.dataset)\n",
    "    print(f\"Epoch {ep}/{epochs}  Train:{train_loss:.4f}  Val:{val_loss:.4f}  \"\n",
    "          f\"PSNR:{avg_psnr:.2f}dB  SSIM:{avg_ssim:.3f}  Time:{time.time()-t0:.1f}s\")\n",
    "    if val_loss < best_val:\n",
    "        best_val = val_loss\n",
    "        torch.save(model.state_dict(), 'lite128_best.pt')\n",
    "        wait = 0\n",
    "    else:\n",
    "        wait += 1\n",
    "        if wait>=patience:\n",
    "            print(\"Early stop triggered.\")\n",
    "            break\n",
    "\n",
    "print(\"✅ Experiment complete.\")\n"
   ]
  },
  {
   "cell_type": "code",
   "execution_count": null,
   "id": "45d84c6c",
   "metadata": {},
   "outputs": [],
   "source": [
    "# 7) Visualize 10 Diverse Test Results\n",
    "import matplotlib.pyplot as plt\n",
    "model.eval()\n",
    "fig, axs = plt.subplots(10,3,figsize=(6,24))\n",
    "indices = list(range(0,len(test_ds),len(test_ds)//10))\n",
    "for i, idx in enumerate(indices):\n",
    "    inp,tgt = test_ds[idx]\n",
    "    with torch.no_grad():\n",
    "        out = model(inp.unsqueeze(0).to(device))[0].cpu()\n",
    "    axs[i,0].imshow(inp.squeeze(0), cmap='gray'); axs[i,0].axis('off')\n",
    "    axs[i,1].imshow(out.permute(1,2,0)); axs[i,1].axis('off')\n",
    "    axs[i,2].imshow(tgt.permute(1,2,0)); axs[i,2].axis('off')\n",
    "    axs[i,0].set_title(\"Input\")\n",
    "    axs[i,1].set_title(\"Predicted\")\n",
    "    axs[i,2].set_title(\"GT\")\n",
    "plt.tight_layout()\n"
   ]
  },
  {
   "cell_type": "markdown",
   "id": "5da89cce",
   "metadata": {},
   "source": [
    "---\n",
    "**Summary:**  \n",
    "- Full STL-10 (5 000 train, 8 000 test) at **128×128** trained for ~10–15 min.  \n",
    "- Best model saved as `lite128_best.pt`.  \n",
    "- Reported MSE, PSNR, SSIM each epoch and visualized 10 samples.  \n"
   ]
  }
 ],
 "metadata": {
  "kernelspec": {
   "display_name": "Python 3",
   "language": "python",
   "name": "python3"
  },
  "language_info": {
   "codemirror_mode": {
    "name": "ipython",
    "version": 3
   },
   "file_extension": ".py",
   "mimetype": "text/x-python",
   "name": "python",
   "nbconvert_exporter": "python",
   "pygments_lexer": "ipython3",
   "version": "3.11.6"
  }
 },
 "nbformat": 4,
 "nbformat_minor": 5
}
